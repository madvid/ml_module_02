{
 "cells": [
  {
   "cell_type": "markdown",
   "metadata": {},
   "source": [
    "# Module 02 : Multivariate Linear Regression\n",
    "\n",
    "*Summary: Building on what you did on the previous modules you will extend the linear\n",
    "regression to handle more than one features. Then you will see how to build polynomial\n",
    "models and how to detect overfitting.*\n",
    "\n",
    "## Notions of the module\n",
    "Multivariate linear hypothesis, multivariate linear gradient descent, polynomial models. \n",
    "Training and test sets, overfitting.\n",
    "\n",
    "## Useful Ressources  \n",
    "  \n",
    "You are strongly advise to use the following resource:\n",
    "[Machine Learning MOOC - Stanford](https://www.coursera.org/learn/machine-learning/home/week/2)  \n",
    "Here are the sections of the MOOC that are relevant for today's exercises: \n",
    "\n",
    "### Week 2: \n",
    "\n",
    "**Multivariate Linear Regression:**\n",
    "* Multiple Features (Video + Reading)\n",
    "* Gradient Descent for Multiple Variables (Video + Reading)\n",
    "* Gradient Descent in Practice I- Feature Scaling (Video + Reading)\n",
    "* Gradient Descent in Practice II- Learning Rate (Video + Reading)\n",
    "* Features and Polynomial Regression (Video + Reading)\n",
    "* Review (Reading + Quiz)\n",
    "\n",
    "## General rules\n",
    "See directly the 42Paris intra subject or the corresponding repository on the [github of 42AI](https://github.com/42-AI/bootcamp_machine-learning)\n",
    "\n",
    "\n",
    "## Helper\n",
    "\n",
    "Ensure that you have the right Python interpreter (at least 3.7)."
   ]
  },
  {
   "cell_type": "markdown",
   "metadata": {},
   "source": [
    "## Exercise 00 - Multivariate Hypothesis - Iterative Version"
   ]
  },
  {
   "cell_type": "code",
   "execution_count": 1,
   "metadata": {},
   "outputs": [
    {
     "name": "stdout",
     "output_type": "stream",
     "text": [
      "# Example 0:\n",
      "my prediction:            [[5. 5. 5. 5.]]\n",
      "expected prediction:      [[5. 5. 5. 5.]]\n",
      "\n",
      "# Example 1:\n",
      "my prediction:            [[ 1.  4.  7. 10.]]\n",
      "expected prediction:      [[ 1.  4.  7. 10.]]\n",
      "\n",
      "# Example 2:\n",
      "my prediction:            [[ 9.64 24.28 38.92 53.56]]\n",
      "expected prediction:      [[ 9.64 24.28 38.92 53.56]]\n",
      "\n",
      "# Example 3:\n",
      "my prediction:            [[12.5 32.  51.5 71. ]]\n",
      "expected prediction:      [[12.5 32.  51.5 71. ]]\n"
     ]
    }
   ],
   "source": [
    "from ex00.prediction import simple_predict\n",
    "import numpy as np\n",
    "\n",
    "x = np.arange(1,13).reshape((4,3))\n",
    "print(\"# Example 0:\")\n",
    "theta1 = np.array([[5],[0],[0],[0]])\n",
    "pred = simple_predict(x, theta1)\n",
    "# Ouput:\n",
    "# array([[5.],[ 5.],[ 5.],[ 5.]])\n",
    "# Do you understand why y_hat contains only 5’s here?\n",
    "expected_pred = np.array([[5.],[ 5.],[ 5.],[ 5.]])\n",
    "print(\"my prediction:\".ljust(25), pred.reshape(1, -1))\n",
    "print(\"expected prediction:\".ljust(25), pred.reshape(1, -1))\n",
    "\n",
    "\n",
    "print(\"\\n# Example 1:\")\n",
    "theta2 = np.array([[0],[1],[0],[0]])\n",
    "pred = simple_predict(x, theta2)\n",
    "# Output:\n",
    "# array([[ 1.],[ 4.],[ 7.],[ 10.]])\n",
    "# Do you understand why y_hat == x[:,0] here?\n",
    "expected_pred = np.array([[ 1.],[ 4.],[ 7.],[ 10.]])\n",
    "print(\"my prediction:\".ljust(25), pred.reshape(1, -1))\n",
    "print(\"expected prediction:\".ljust(25), expected_pred.reshape(1, -1))\n",
    "\n",
    "\n",
    "print(\"\\n# Example 2:\")\n",
    "theta3 = np.array([[-1.5],[0.6],[2.3],[1.98]])\n",
    "pred = simple_predict(x, theta3)\n",
    "# Output:\n",
    "# array([[ 9.64],[ 24.28],[ 38.92],[ 53.56]])\n",
    "expected_pred = np.array([[ 9.64],[ 24.28],[ 38.92],[ 53.56]])\n",
    "print(\"my prediction:\".ljust(25), pred.reshape(1, -1))\n",
    "print(\"expected prediction:\".ljust(25), expected_pred.reshape(1, -1))\n",
    "\n",
    "\n",
    "print(\"\\n# Example 3:\")\n",
    "theta4 = np.array([[-3],[1],[2],[3.5]])\n",
    "pred = simple_predict(x, theta4)\n",
    "# Output:\n",
    "# array([[12.5],[ 32. ],[ 51.5],[ 71. ]])\n",
    "expected_pred = np.array([[12.5],[ 32. ],[ 51.5],[ 71. ]])\n",
    "print(\"my prediction:\".ljust(25), pred.reshape(1, -1))\n",
    "print(\"expected prediction:\".ljust(25), expected_pred.reshape(1, -1))"
   ]
  },
  {
   "cell_type": "markdown",
   "metadata": {},
   "source": [
    "## Exercise 01 - Mulltivariate hypothesis - Vectorized Version"
   ]
  },
  {
   "cell_type": "code",
   "execution_count": 3,
   "metadata": {},
   "outputs": [
    {
     "name": "stdout",
     "output_type": "stream",
     "text": [
      "my prediction:            [[5. 5. 5. 5.]]\n",
      "expected prediction:      [[5. 5. 5. 5.]]\n"
     ]
    },
    {
     "ename": "TypeError",
     "evalue": "array() missing required argument 'object' (pos 0)",
     "output_type": "error",
     "traceback": [
      "\u001b[0;31m---------------------------------------------------------------------------\u001b[0m",
      "\u001b[0;31mTypeError\u001b[0m                                 Traceback (most recent call last)",
      "\u001b[0;32m/var/folders/zz/zyxvpxvq6csfxvn_n0003tb8000ykt/T/ipykernel_9603/3726819526.py\u001b[0m in \u001b[0;36m<module>\u001b[0;34m\u001b[0m\n\u001b[1;32m     19\u001b[0m \u001b[0;31m# array([[ 1.],[ 4.],[ 7.],[ 10.]])\u001b[0m\u001b[0;34m\u001b[0m\u001b[0;34m\u001b[0m\u001b[0;34m\u001b[0m\u001b[0m\n\u001b[1;32m     20\u001b[0m \u001b[0;31m# Do you understand why y_hat == x[:,0] here?\u001b[0m\u001b[0;34m\u001b[0m\u001b[0;34m\u001b[0m\u001b[0;34m\u001b[0m\u001b[0m\n\u001b[0;32m---> 21\u001b[0;31m \u001b[0mexpected_pred\u001b[0m \u001b[0;34m=\u001b[0m \u001b[0mnp\u001b[0m\u001b[0;34m.\u001b[0m\u001b[0marray\u001b[0m\u001b[0;34m(\u001b[0m\u001b[0;34m)\u001b[0m\u001b[0;34m\u001b[0m\u001b[0;34m\u001b[0m\u001b[0m\n\u001b[0m\u001b[1;32m     22\u001b[0m \u001b[0mprint\u001b[0m\u001b[0;34m(\u001b[0m\u001b[0;34m\"my prediction:\"\u001b[0m\u001b[0;34m.\u001b[0m\u001b[0mljust\u001b[0m\u001b[0;34m(\u001b[0m\u001b[0;36m25\u001b[0m\u001b[0;34m)\u001b[0m\u001b[0;34m,\u001b[0m \u001b[0mpred\u001b[0m\u001b[0;34m.\u001b[0m\u001b[0mreshape\u001b[0m\u001b[0;34m(\u001b[0m\u001b[0;36m1\u001b[0m\u001b[0;34m,\u001b[0m \u001b[0;34m-\u001b[0m\u001b[0;36m1\u001b[0m\u001b[0;34m)\u001b[0m\u001b[0;34m)\u001b[0m\u001b[0;34m\u001b[0m\u001b[0;34m\u001b[0m\u001b[0m\n\u001b[1;32m     23\u001b[0m \u001b[0mprint\u001b[0m\u001b[0;34m(\u001b[0m\u001b[0;34m\"expected prediction:\"\u001b[0m\u001b[0;34m.\u001b[0m\u001b[0mljust\u001b[0m\u001b[0;34m(\u001b[0m\u001b[0;36m25\u001b[0m\u001b[0;34m)\u001b[0m\u001b[0;34m,\u001b[0m \u001b[0mexpected_pred\u001b[0m\u001b[0;34m.\u001b[0m\u001b[0mreshape\u001b[0m\u001b[0;34m(\u001b[0m\u001b[0;36m1\u001b[0m\u001b[0;34m,\u001b[0m \u001b[0;34m-\u001b[0m\u001b[0;36m1\u001b[0m\u001b[0;34m)\u001b[0m\u001b[0;34m)\u001b[0m\u001b[0;34m\u001b[0m\u001b[0;34m\u001b[0m\u001b[0m\n",
      "\u001b[0;31mTypeError\u001b[0m: array() missing required argument 'object' (pos 0)"
     ]
    }
   ],
   "source": [
    "import numpy as np\n",
    "from ex01.prediction import predict_\n",
    "\n",
    "x = np.arange(1,13).reshape((4,-3))\n",
    "# Example 0:\n",
    "theta1 = np.array([[5],[ 0],[ 0],[ 0]])\n",
    "pred = predict_(x, theta1)\n",
    "# Ouput:\n",
    "# array([[5.],[ 5.],[ 5.],[ 5.]])\n",
    "# Do you understand why y_hat contains only 5’s here?\n",
    "expected_pred = np.array([[5.],[ 5.],[ 5.],[ 5.]])\n",
    "print(\"my prediction:\".ljust(25), pred.reshape(1, -1))\n",
    "print(\"expected prediction:\".ljust(25), expected_pred.reshape(1, -1))\n",
    "\n",
    "# Example 1:\n",
    "theta2 = np.array([[0],[ 1],[ 0],[ 0]])\n",
    "pred = predict_(x, theta2)\n",
    "# Output:\n",
    "# array([[ 1.],[ 4.],[ 7.],[ 10.]])\n",
    "# Do you understand why y_hat == x[:,0] here?\n",
    "expected_pred = np.array([ 1.],[ 4.],[ 7.],[ 10.]])\n",
    "print(\"my prediction:\".ljust(25), pred.reshape(1, -1))\n",
    "print(\"expected prediction:\".ljust(25), expected_pred.reshape(1, -1))\n",
    "\n",
    "# Example 2:\n",
    "theta3 = np.array([[-1.5],[ 0.6],[ 2.3],[ 1.98]])\n",
    "pred = predict_(x, theta3)\n",
    "# Output:\n",
    "# array([[ 9.64],[ 24.28],[ 38.92],[ 53.56]])\n",
    "expected_pred = np.array([[ 9.64],[ 24.28],[ 38.92],[ 53.56]])\n",
    "print(\"my prediction:\".ljust(25), pred.reshape(1, -1))\n",
    "print(\"expected prediction:\".ljust(25), expected_pred.reshape(1, -1))\n",
    "\n",
    "# Example 3:\n",
    "theta4 = np.array([[-3],[ 1],[ 2],[ 3.5]])\n",
    "pred = predict_(x, theta4)\n",
    "# Output:\n",
    "# array([[12.5],[ 32. ],[ 51.5],[ 71. ]])\n",
    "expected_pred = np.array([[12.5],[ 32. ],[ 51.5],[ 71. ]])\n",
    "print(\"my prediction:\".ljust(25), pred.reshape(1, -1))\n",
    "print(\"expected prediction:\".ljust(25), expected_pred.reshape(1, -1))"
   ]
  },
  {
   "cell_type": "markdown",
   "metadata": {},
   "source": [
    "## Exercise 02 - Vectorized Loss Function"
   ]
  },
  {
   "cell_type": "code",
   "execution_count": null,
   "metadata": {},
   "outputs": [],
   "source": []
  },
  {
   "cell_type": "markdown",
   "metadata": {},
   "source": [
    "## Exercise 03 - Multivariate Gradient"
   ]
  },
  {
   "cell_type": "code",
   "execution_count": null,
   "metadata": {},
   "outputs": [],
   "source": []
  },
  {
   "cell_type": "markdown",
   "metadata": {},
   "source": [
    "## Exercise 04 - Multivariate Gradient Descent"
   ]
  },
  {
   "cell_type": "code",
   "execution_count": null,
   "metadata": {},
   "outputs": [],
   "source": []
  },
  {
   "cell_type": "markdown",
   "metadata": {},
   "source": [
    "## Exercise 05 - Multivariate Linear Regression With Class"
   ]
  },
  {
   "cell_type": "code",
   "execution_count": null,
   "metadata": {},
   "outputs": [],
   "source": []
  },
  {
   "cell_type": "markdown",
   "metadata": {},
   "source": [
    "## Exercise 06 - Practicing Multivariate Linear Regression"
   ]
  },
  {
   "cell_type": "code",
   "execution_count": null,
   "metadata": {},
   "outputs": [],
   "source": []
  },
  {
   "cell_type": "markdown",
   "metadata": {},
   "source": [
    "## Exercise 07 - Polynommial models"
   ]
  },
  {
   "cell_type": "code",
   "execution_count": null,
   "metadata": {},
   "outputs": [],
   "source": []
  },
  {
   "cell_type": "markdown",
   "metadata": {},
   "source": [
    "## Exercise 08 - Let's Train Polynomial Models!"
   ]
  },
  {
   "cell_type": "code",
   "execution_count": null,
   "metadata": {},
   "outputs": [],
   "source": []
  },
  {
   "cell_type": "markdown",
   "metadata": {},
   "source": [
    "## Exercise 09 - DataSpliter"
   ]
  },
  {
   "cell_type": "code",
   "execution_count": null,
   "metadata": {},
   "outputs": [],
   "source": []
  },
  {
   "cell_type": "markdown",
   "metadata": {},
   "source": [
    "## Exercise 10 - Machine Learning for Grown-ups: Training and Test Sets"
   ]
  },
  {
   "cell_type": "code",
   "execution_count": null,
   "metadata": {},
   "outputs": [],
   "source": []
  }
 ],
 "metadata": {
  "interpreter": {
   "hash": "50baabd70a1595a756c74ef7edb7013232b1c3c869f8ef50cd86aea3cdd4dc6d"
  },
  "kernelspec": {
   "display_name": "Python 3.7.4 64-bit ('v_bootcampp': venv)",
   "language": "python",
   "name": "python3"
  },
  "language_info": {
   "codemirror_mode": {
    "name": "ipython",
    "version": 3
   },
   "file_extension": ".py",
   "mimetype": "text/x-python",
   "name": "python",
   "nbconvert_exporter": "python",
   "pygments_lexer": "ipython3",
   "version": "3.7.4"
  },
  "orig_nbformat": 4
 },
 "nbformat": 4,
 "nbformat_minor": 2
}
